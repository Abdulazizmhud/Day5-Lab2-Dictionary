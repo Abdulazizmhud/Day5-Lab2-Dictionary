{
 "cells": [
  {
   "cell_type": "code",
   "execution_count": 3,
   "id": "a6b46b31",
   "metadata": {},
   "outputs": [
    {
     "name": "stdout",
     "output_type": "stream",
     "text": [
      "{'Amal': 1111111111, 'Mohammed': 2222222222, 'Khadijah': 3333333333, 'Abdullah': 4444444444, 'Rawan': 5555555555, 'Faisal': 6666666666, 'Layla': 7777777777}\n",
      "Enter a number: 1212121\n",
      "Sorry, the number is not found\n",
      "What is the number1111111111\n",
      "Valid number\n"
     ]
    }
   ],
   "source": [
    "phonebook = {\n",
    "    \"Amal\" : 1111111111,\n",
    "    \"Mohammed\" : 2222222222,\n",
    "    \"Khadijah\" : 3333333333,\n",
    "    \"Abdullah\" : 4444444444,\n",
    "    \"Rawan\" : 5555555555,\n",
    "    \"Faisal\" : 6666666666,\n",
    "    \"Layla\" : 7777777777\n",
    "}\n",
    "print(phonebook)\n",
    "\n",
    "number = int(input(\"Enter a number: \"))\n",
    "while (len(str(number))) !=10:\n",
    "    print(\"Sorry, the number is not found\")\n",
    "    number = int(input(\"What is the number\"))\n",
    "else:\n",
    "    print(\"Valid number\")"
   ]
  },
  {
   "cell_type": "code",
   "execution_count": null,
   "id": "66355acb",
   "metadata": {},
   "outputs": [],
   "source": []
  },
  {
   "cell_type": "code",
   "execution_count": null,
   "id": "43fcb54a",
   "metadata": {},
   "outputs": [],
   "source": []
  }
 ],
 "metadata": {
  "kernelspec": {
   "display_name": "Python 3",
   "language": "python",
   "name": "python3"
  },
  "language_info": {
   "codemirror_mode": {
    "name": "ipython",
    "version": 3
   },
   "file_extension": ".py",
   "mimetype": "text/x-python",
   "name": "python",
   "nbconvert_exporter": "python",
   "pygments_lexer": "ipython3",
   "version": "3.8.8"
  }
 },
 "nbformat": 4,
 "nbformat_minor": 5
}
